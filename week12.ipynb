{
  "nbformat": 4,
  "nbformat_minor": 0,
  "metadata": {
    "colab": {
      "provenance": [],
      "toc_visible": true,
      "include_colab_link": true
    },
    "kernelspec": {
      "name": "python3",
      "display_name": "Python 3"
    },
    "language_info": {
      "name": "python"
    }
  },
  "cells": [
    {
      "cell_type": "markdown",
      "metadata": {
        "id": "view-in-github",
        "colab_type": "text"
      },
      "source": [
        "<a href=\"https://colab.research.google.com/github/noora20FH/PCVK/blob/week12/week12.ipynb\" target=\"_parent\"><img src=\"https://colab.research.google.com/assets/colab-badge.svg\" alt=\"Open In Colab\"/></a>"
      ]
    },
    {
      "cell_type": "markdown",
      "source": [
        "NOORA AULIA HIDAYAT\n",
        "\n",
        "2041720046"
      ],
      "metadata": {
        "id": "ReY1T_0ydJk4"
      }
    },
    {
      "cell_type": "code",
      "source": [
        "from google.colab import drive\n",
        "\n",
        "drive.mount('/content/drive')"
      ],
      "metadata": {
        "colab": {
          "base_uri": "https://localhost:8080/"
        },
        "id": "mw_eihsTdIKE",
        "outputId": "50632c30-8262-478c-defc-ce2edb5bbf0e"
      },
      "execution_count": 1,
      "outputs": [
        {
          "output_type": "stream",
          "name": "stdout",
          "text": [
            "Mounted at /content/drive\n"
          ]
        }
      ]
    },
    {
      "cell_type": "code",
      "source": [
        "import numpy as np\n",
        "import cv2 as cv\n",
        "img = cv.imread('home.jpg')\n",
        "gray= cv.cvtColor(img,cv.COLOR_BGR2GRAY)\n",
        "sift = cv.SIFT_create()\n",
        "kp = sift.detect(gray,None)\n",
        "img=cv.drawKeypoints(gray,kp,img)\n",
        "cv.imwrite('sift_keypoints.jpg',img)"
      ],
      "metadata": {
        "id": "17yM-C0lcw2G"
      },
      "execution_count": null,
      "outputs": []
    },
    {
      "cell_type": "code",
      "source": [],
      "metadata": {
        "id": "Jc-wrSv1dHQm"
      },
      "execution_count": null,
      "outputs": []
    }
  ]
}